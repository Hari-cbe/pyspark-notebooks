{
 "cells": [
  {
   "cell_type": "code",
   "execution_count": null,
   "id": "84bfc51b",
   "metadata": {},
   "outputs": [],
   "source": [
    "from pyspark.sql import SparkSession"
   ]
  },
  {
   "cell_type": "code",
   "execution_count": null,
   "id": "b775a2b6",
   "metadata": {},
   "outputs": [],
   "source": [
    "spark = SparkSession.builder.appName(\"partitioning\").master(\"local[4]\").getOrCreate()"
   ]
  },
  {
   "cell_type": "code",
   "execution_count": null,
   "id": "e3fc75d4",
   "metadata": {},
   "outputs": [],
   "source": [
    "spark"
   ]
  },
  {
   "cell_type": "code",
   "execution_count": 4,
   "id": "9bcc8b97",
   "metadata": {},
   "outputs": [],
   "source": [
    "import pyspark.sql.functions as F\n",
    "from pyspark.sql.types import * "
   ]
  },
  {
   "cell_type": "code",
   "execution_count": 14,
   "id": "007c528f",
   "metadata": {},
   "outputs": [],
   "source": [
    "spotify_active_Listen = (\n",
    "    spark.read.option('inferschema',True).option('header',True)\n",
    "    .csv('./_spotify_partitioned_data/raw/Spotify_Listening_Activity.csv')\n",
    ")"
   ]
  },
  {
   "cell_type": "code",
   "execution_count": 22,
   "id": "4d2c53ee",
   "metadata": {},
   "outputs": [
    {
     "name": "stdout",
     "output_type": "stream",
     "text": [
      "root\n",
      " |-- activity_id: integer (nullable = true)\n",
      " |-- song_id: integer (nullable = true)\n",
      " |-- listen_date: string (nullable = true)\n",
      " |-- listen_duration: integer (nullable = true)\n",
      "\n",
      "+-----------+-------+--------------------+---------------+\n",
      "|activity_id|song_id|         listen_date|listen_duration|\n",
      "+-----------+-------+--------------------+---------------+\n",
      "|          1|     12|2023-06-27 10:15:...|             69|\n",
      "|          2|     44|2023-06-27 10:15:...|            300|\n",
      "|          3|     75|2023-06-27 10:15:...|             73|\n",
      "|          4|     48|2023-06-27 10:15:...|            105|\n",
      "|          5|     10|2023-06-27 10:15:...|            229|\n",
      "+-----------+-------+--------------------+---------------+\n",
      "only showing top 5 rows\n",
      "\n"
     ]
    }
   ],
   "source": [
    "spotify_active_Listen.printSchema()\n",
    "spotify_active_Listen.show(5)"
   ]
  },
  {
   "cell_type": "code",
   "execution_count": 26,
   "id": "77eebbdd",
   "metadata": {},
   "outputs": [],
   "source": [
    "spotify_active_Listen = (\n",
    "    spotify_active_Listen\n",
    "    .withColumnRenamed('listen_date','listen_datetime')\n",
    "    .withColumn('listen_datetime', F.to_timestamp(F.col('listen_datetime'),'yyyy-MM-dd HH:mm:ss.SSSSSS'))\n",
    "    .withColumn('listen_date',F.to_date(F.col('listen_datetime')))\n",
    "    .withColumn('listen_hour',F.hour(col=F.col('listen_datetime')))\n",
    ")"
   ]
  },
  {
   "cell_type": "code",
   "execution_count": 32,
   "id": "bb4ac276",
   "metadata": {},
   "outputs": [
    {
     "name": "stderr",
     "output_type": "stream",
     "text": [
      "                                                                                \r"
     ]
    }
   ],
   "source": [
    "(\n",
    "    spotify_active_Listen\n",
    "        .write\n",
    "        .partitionBy('listen_date')\n",
    "        .mode(\"overwrite\")\n",
    "        .save('./_spotify_partitioned_data/raw/partitioned_data')\n",
    ")"
   ]
  },
  {
   "cell_type": "code",
   "execution_count": null,
   "id": "36c4fe90",
   "metadata": {},
   "outputs": [],
   "source": [
    "# It can be writtern with repartition or coalesce also to take control of how many files \n",
    "\n",
    "(\n",
    "    spotify_active_Listen\n",
    "        .repartitionBy(3)  # This controls how many files for each partition \n",
    "        .write\n",
    "        .partitionBy('listen_date')\n",
    "        .mode(\"overwrite\")\n",
    "        .save('./_spotify_partitioned_data/raw/partitioned_data')\n",
    ")\n"
   ]
  },
  {
   "cell_type": "code",
   "execution_count": null,
   "id": "752a3379",
   "metadata": {},
   "outputs": [
    {
     "name": "stderr",
     "output_type": "stream",
     "text": [
      "                                                                                \r"
     ]
    }
   ],
   "source": [
    "# Reading the partitioned files \n",
    "\n",
    "df_partitioned_data  = (\n",
    "        spark.read.parquet('/home/hari/python-notebooks/_spotify_partitioned_data/raw/partitioned_data/')\n",
    ")"
   ]
  },
  {
   "cell_type": "code",
   "execution_count": 37,
   "id": "2cef331d",
   "metadata": {},
   "outputs": [
    {
     "name": "stdout",
     "output_type": "stream",
     "text": [
      "+-----------+-------+--------------------+---------------+-----------+-----------+\n",
      "|activity_id|song_id|     listen_datetime|listen_duration|listen_hour|listen_date|\n",
      "+-----------+-------+--------------------+---------------+-----------+-----------+\n",
      "|      10922|     73|2023-05-02 10:15:...|            225|         10| 2023-05-02|\n",
      "|      10923|     16|2023-05-02 10:15:...|            270|         10| 2023-05-02|\n",
      "|      10924|     14|2023-05-02 10:15:...|            172|         10| 2023-05-02|\n",
      "|      10925|     78|2023-05-02 10:15:...|            167|         10| 2023-05-02|\n",
      "|      10926|     53|2023-05-02 10:15:...|            244|         10| 2023-05-02|\n",
      "|      10927|     63|2023-05-02 10:15:...|            145|         10| 2023-05-02|\n",
      "|      10928|     32|2023-05-02 10:15:...|            222|         10| 2023-05-02|\n",
      "|      10929|      6|2023-05-02 10:15:...|            146|         10| 2023-05-02|\n",
      "|      10930|     37|2023-05-02 10:15:...|            190|         10| 2023-05-02|\n",
      "|      10931|     30|2023-05-02 10:15:...|            289|         10| 2023-05-02|\n",
      "|      10932|      5|2023-05-02 10:15:...|            216|         10| 2023-05-02|\n",
      "|      10933|      7|2023-05-02 10:15:...|            296|         10| 2023-05-02|\n",
      "|      10934|     82|2023-05-02 10:15:...|             71|         10| 2023-05-02|\n",
      "|      10935|     28|2023-05-02 10:15:...|            276|         10| 2023-05-02|\n",
      "|      10936|     79|2023-05-02 10:15:...|             68|         10| 2023-05-02|\n",
      "|      10937|     56|2023-05-02 10:15:...|            205|         10| 2023-05-02|\n",
      "|      10938|     71|2023-05-02 10:15:...|            251|         10| 2023-05-02|\n",
      "|      10939|     57|2023-05-02 10:15:...|             88|         10| 2023-05-02|\n",
      "|      10940|     19|2023-05-02 10:15:...|            276|         10| 2023-05-02|\n",
      "|      10941|     30|2023-05-02 10:15:...|            289|         10| 2023-05-02|\n",
      "+-----------+-------+--------------------+---------------+-----------+-----------+\n",
      "only showing top 20 rows\n",
      "\n"
     ]
    }
   ],
   "source": [
    "df_partitioned_data.filter(F.col('listen_date') == '2023-05-02').show()"
   ]
  },
  {
   "cell_type": "code",
   "execution_count": 41,
   "id": "0c08c0eb",
   "metadata": {},
   "outputs": [
    {
     "data": {
      "text/plain": [
       "'200'"
      ]
     },
     "execution_count": 41,
     "metadata": {},
     "output_type": "execute_result"
    }
   ],
   "source": [
    "spark.conf.get('spark.sql.shuffle.partitions')"
   ]
  },
  {
   "cell_type": "code",
   "execution_count": null,
   "id": "6fcfbc4e",
   "metadata": {},
   "outputs": [],
   "source": [
    "df_partitioned_data.rdd.getNumPartitions()\n",
    "cached = df_partitioned_data.cache()\n",
    "cached.write.format('noop')\n",
    "\n",
    "rere = df_partitioned_data.repartition(4,'listen_date')"
   ]
  },
  {
   "cell_type": "code",
   "execution_count": 66,
   "id": "c1dd3cd5",
   "metadata": {},
   "outputs": [
    {
     "data": {
      "text/plain": [
       "<pyspark.sql.readwriter.DataFrameWriter at 0x758397d26980>"
      ]
     },
     "execution_count": 66,
     "metadata": {},
     "output_type": "execute_result"
    }
   ],
   "source": [
    "rere.cache()\n",
    "rere.write.format('noop')"
   ]
  },
  {
   "cell_type": "code",
   "execution_count": 68,
   "id": "56528da6",
   "metadata": {},
   "outputs": [
    {
     "name": "stdout",
     "output_type": "stream",
     "text": [
      "+-------+--------+\n",
      "|part_id|count_id|\n",
      "+-------+--------+\n",
      "|      1|    3742|\n",
      "|      3|    3001|\n",
      "|      2|    2495|\n",
      "|      0|    2541|\n",
      "+-------+--------+\n",
      "\n"
     ]
    }
   ],
   "source": [
    "(\n",
    "    rere.withColumn('part_id',F.spark_partition_id())\n",
    "    .groupBy(F.col('part_id')).agg(F.count('*').alias('count_id'))\n",
    ").show(50)"
   ]
  },
  {
   "cell_type": "code",
   "execution_count": null,
   "id": "88b83ada",
   "metadata": {},
   "outputs": [
    {
     "name": "stderr",
     "output_type": "stream",
     "text": [
      "                                                                                \r"
     ]
    }
   ],
   "source": [
    "(\n",
    "    rere.write.mode(\"overwrite\").parquet('./output_data/test_part/')\n",
    ")"
   ]
  },
  {
   "cell_type": "code",
   "execution_count": 70,
   "id": "fe0ded20",
   "metadata": {},
   "outputs": [],
   "source": [
    "spark.stop()"
   ]
  },
  {
   "cell_type": "code",
   "execution_count": null,
   "id": "f8e8cb9e",
   "metadata": {},
   "outputs": [],
   "source": []
  },
  {
   "cell_type": "code",
   "execution_count": null,
   "id": "14a680e4",
   "metadata": {},
   "outputs": [],
   "source": []
  },
  {
   "cell_type": "code",
   "execution_count": null,
   "id": "b8988c92",
   "metadata": {},
   "outputs": [],
   "source": []
  },
  {
   "cell_type": "code",
   "execution_count": null,
   "id": "d77d3dba",
   "metadata": {},
   "outputs": [],
   "source": []
  },
  {
   "cell_type": "code",
   "execution_count": null,
   "id": "e1283a76",
   "metadata": {},
   "outputs": [],
   "source": []
  },
  {
   "cell_type": "code",
   "execution_count": null,
   "id": "e0f97841",
   "metadata": {},
   "outputs": [],
   "source": []
  },
  {
   "cell_type": "code",
   "execution_count": null,
   "id": "328e508b",
   "metadata": {},
   "outputs": [],
   "source": []
  }
 ],
 "metadata": {
  "kernelspec": {
   "display_name": "Python 3",
   "language": "python",
   "name": "python3"
  },
  "language_info": {
   "codemirror_mode": {
    "name": "ipython",
    "version": 3
   },
   "file_extension": ".py",
   "mimetype": "text/x-python",
   "name": "python",
   "nbconvert_exporter": "python",
   "pygments_lexer": "ipython3",
   "version": "3.10.12"
  }
 },
 "nbformat": 4,
 "nbformat_minor": 5
}
