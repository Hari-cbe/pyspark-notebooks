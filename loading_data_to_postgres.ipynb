{
 "cells": [
  {
   "cell_type": "code",
   "execution_count": null,
   "id": "583d23f6-fd4b-46c2-a4f2-1518a7ef281c",
   "metadata": {},
   "outputs": [],
   "source": [
    "# imports\n",
    "\n",
    "from pyspark.sql import SparkSession\n",
    "from pyspark.sql.functions import (\n",
    "        col, from_unixtime\n",
    ")\n",
    "from pyspark.sql.types import StringType, IntegerType, FloatType ,StructField, StructType, TimestampType"
   ]
  },
  {
   "cell_type": "code",
   "execution_count": null,
   "id": "aaaee919-6aa4-4153-ac06-522078c686fc",
   "metadata": {},
   "outputs": [],
   "source": [
    "# Spark Session \n",
    "\n",
    "spark = (\n",
    "    SparkSession.builder\n",
    "        .appName(\"load_postgres\")\n",
    "        .config(\"spark.jars\", \"jars/postgresql-42.7.7.jar\")\n",
    "        .config(\"spark.driver.extraClassPath\", \"jars/postgresql-42.7.7.jar\")\n",
    "        .config(\"spark.executor.extraClassPath\", \"jars/postgresql-42.7.7.jar\")\n",
    "        .getOrCreate()\n",
    ")"
   ]
  },
  {
   "cell_type": "code",
   "execution_count": null,
   "id": "907e90d6-4dbc-4276-8be5-29552d8d8f0b",
   "metadata": {
    "scrolled": true
   },
   "outputs": [],
   "source": [
    "spark"
   ]
  },
  {
   "cell_type": "code",
   "execution_count": null,
   "id": "76d0853c-29e2-4e18-ba4c-7409180f8513",
   "metadata": {},
   "outputs": [],
   "source": [
    "#Setting JDBC Connection\n",
    "\n",
    "url = \"jdbc:postgresql://localhost:5432/mydb\"\n",
    "\n",
    "properties = {\n",
    "    \"user\": \"root\",\n",
    "    \"password\": \"root\",\n",
    "    \"driver\": \"org.postgresql.Driver\"\n",
    "}"
   ]
  },
  {
   "cell_type": "code",
   "execution_count": null,
   "id": "67ee4406-705a-4d6a-b5cf-4cbd2f1e1d1c",
   "metadata": {},
   "outputs": [],
   "source": [
    "def read_csv(header_option= True, format='csv', path=''):\n",
    "    return spark.read.option(\"header\",header_option).format(format).load(path)"
   ]
  },
  {
   "cell_type": "code",
   "execution_count": null,
   "id": "b628b46f-9cea-42cf-a1ab-57a8d3a2e4ac",
   "metadata": {},
   "outputs": [],
   "source": [
    "def write_to_db(df,table_name,mode='overwrite',url=url, properties=properties):\n",
    "    df.write.jdbc(url,table_name,mode=mode, properties=properties)"
   ]
  },
  {
   "cell_type": "code",
   "execution_count": null,
   "id": "7ca68326-0e7f-40ce-9eda-934bd8346e7e",
   "metadata": {},
   "outputs": [],
   "source": [
    "movies_df = spark.read.option(\"header\",True).format(\"csv\").load(\"data/MoviesData/movies.csv\")"
   ]
  },
  {
   "cell_type": "code",
   "execution_count": null,
   "id": "e95e3cfc-3e99-4a86-b117-accf04486494",
   "metadata": {},
   "outputs": [],
   "source": [
    "movies_df.printSchema()"
   ]
  },
  {
   "cell_type": "code",
   "execution_count": null,
   "id": "f63813e0-158d-45c9-933a-01a55a856a65",
   "metadata": {},
   "outputs": [],
   "source": [
    "movie_casted = (\n",
    "    movies_df.select(col('movieId').cast(IntegerType()),col('title'), col('genres'))\n",
    ")"
   ]
  },
  {
   "cell_type": "code",
   "execution_count": null,
   "id": "9038bf94-1295-4cf0-8214-0afd355e2d90",
   "metadata": {},
   "outputs": [],
   "source": [
    "write_to_db(df=movie_casted, table_name='movies')"
   ]
  },
  {
   "cell_type": "code",
   "execution_count": null,
   "id": "f9735d58-b90d-4db5-9142-72a4cb23efe4",
   "metadata": {},
   "outputs": [],
   "source": [
    "ratings_df = spark.read.option(\"header\",True).format(\"csv\").load(\"data/MoviesData/ratings.csv\")"
   ]
  },
  {
   "cell_type": "code",
   "execution_count": null,
   "id": "5d246dfc-11bd-434d-81a4-24cda588680d",
   "metadata": {},
   "outputs": [],
   "source": [
    "ratings_df.printSchema()\n",
    "ratings_df.show(5)"
   ]
  },
  {
   "cell_type": "code",
   "execution_count": null,
   "id": "24e516c5-4e22-416c-94cf-3dbb721808d6",
   "metadata": {},
   "outputs": [],
   "source": [
    "ratings_df_timestampf = ( \n",
    "    ratings_df.withColumn('timestamp', from_unixtime(col('timestamp')).cast(TimestampType()))\n",
    "    .select(col('userId').cast(IntegerType()), col('movieId').cast(IntegerType()), col('rating').cast(FloatType()), col('timestamp'))\n",
    ")\n",
    "ratings_df_timestampf.printSchema()\n",
    "ratings_df_timestampf.show()"
   ]
  },
  {
   "cell_type": "code",
   "execution_count": null,
   "id": "aa63613f-8bec-4263-9254-fa43e1fa3484",
   "metadata": {},
   "outputs": [],
   "source": [
    "ratings_df_timestampf.cache()\n",
    "\n",
    "ratings_df_timestampf.write.format('noop')"
   ]
  },
  {
   "cell_type": "code",
   "execution_count": null,
   "id": "b9336334-db84-4002-b725-b4e2e8ec1525",
   "metadata": {},
   "outputs": [],
   "source": [
    "write_to_db(df=ratings_df_timestampf, table_name='ratings')"
   ]
  },
  {
   "cell_type": "code",
   "execution_count": null,
   "id": "d3fd1f18-ed80-4720-9684-3a4fbc1135c2",
   "metadata": {},
   "outputs": [],
   "source": [
    "ratings_df_timestampf.unpersist()\n",
    "ratings_df_timestampf.write.format('noop')"
   ]
  },
  {
   "cell_type": "code",
   "execution_count": null,
   "id": "ca067ad6-8937-40e3-a9c3-35a3b7dbbc53",
   "metadata": {},
   "outputs": [],
   "source": [
    "tags_df = read_csv(path=\"data/MoviesData/tags.csv\")"
   ]
  },
  {
   "cell_type": "code",
   "execution_count": null,
   "id": "784b18b8-baaa-4a01-bc37-e6488a5cfa4e",
   "metadata": {},
   "outputs": [],
   "source": [
    "tags_df.printSchema()\n",
    "tags_df.show()"
   ]
  },
  {
   "cell_type": "code",
   "execution_count": null,
   "id": "dce48aff-6386-4dfd-9a86-1a34d870eaee",
   "metadata": {},
   "outputs": [],
   "source": [
    "tags_df_timestampf = ( \n",
    "    tags_df.withColumn('timestamp', from_unixtime(col('timestamp')).cast(TimestampType()))\n",
    "    .select(col('userId').cast(IntegerType()), col('movieId').cast(IntegerType()), col('tag'), col('timestamp'))\n",
    ")\n",
    "\n",
    "tags_df_timestampf.printSchema()\n",
    "tags_df_timestampf.show()\n"
   ]
  },
  {
   "cell_type": "code",
   "execution_count": null,
   "id": "28dcc777-6062-4f58-af7d-694450b0a63f",
   "metadata": {},
   "outputs": [],
   "source": [
    "write_to_db(df=tags_df_timestampf, table_name='tags')"
   ]
  },
  {
   "cell_type": "code",
   "execution_count": null,
   "id": "806086c7-fb39-4da4-9a0f-e77c3c1bc212",
   "metadata": {},
   "outputs": [],
   "source": []
  }
 ],
 "metadata": {
  "kernelspec": {
   "display_name": "Python 3 (ipykernel)",
   "language": "python",
   "name": "python3"
  },
  "language_info": {
   "codemirror_mode": {
    "name": "ipython",
    "version": 3
   },
   "file_extension": ".py",
   "mimetype": "text/x-python",
   "name": "python",
   "nbconvert_exporter": "python",
   "pygments_lexer": "ipython3",
   "version": "3.10.12"
  }
 },
 "nbformat": 4,
 "nbformat_minor": 5
}
