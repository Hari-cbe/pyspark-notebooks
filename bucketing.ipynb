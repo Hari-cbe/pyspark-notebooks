{
 "cells": [
  {
   "cell_type": "code",
   "execution_count": null,
   "id": "9e599103",
   "metadata": {},
   "outputs": [],
   "source": [
    "from pyspark.sql import SparkSession\n",
    "from  pyspark.sql.types import *\n",
    "import pyspark.sql.functions as F\n",
    "from pyspark.sql.window import Window\n"
   ]
  },
  {
   "cell_type": "code",
   "execution_count": 10,
   "id": "70ed3742",
   "metadata": {},
   "outputs": [],
   "source": [
    "spark =(\n",
    "    SparkSession\n",
    "        .builder\n",
    "        .config('spark.driver.memory','10g')\n",
    "        .master('local[*]')\n",
    "        .appName('bucketing')\n",
    "        .getOrCreate()\n",
    ")\n",
    "spark.sparkContext.setLogLevel(\"ERROR\")\n",
    "spark.conf.set('spark.sql.autoBroadcastJoinThreshold',-1)"
   ]
  },
  {
   "cell_type": "code",
   "execution_count": 11,
   "id": "c74c6a92",
   "metadata": {},
   "outputs": [
    {
     "data": {
      "text/html": [
       "\n",
       "            <div>\n",
       "                <p><b>SparkSession - in-memory</b></p>\n",
       "                \n",
       "        <div>\n",
       "            <p><b>SparkContext</b></p>\n",
       "\n",
       "            <p><a href=\"http://192.168.31.229:4040\">Spark UI</a></p>\n",
       "\n",
       "            <dl>\n",
       "              <dt>Version</dt>\n",
       "                <dd><code>v3.0.0</code></dd>\n",
       "              <dt>Master</dt>\n",
       "                <dd><code>local[*]</code></dd>\n",
       "              <dt>AppName</dt>\n",
       "                <dd><code>bucketing</code></dd>\n",
       "            </dl>\n",
       "        </div>\n",
       "        \n",
       "            </div>\n",
       "        "
      ],
      "text/plain": [
       "<pyspark.sql.session.SparkSession at 0x748255332350>"
      ]
     },
     "execution_count": 11,
     "metadata": {},
     "output_type": "execute_result"
    }
   ],
   "source": [
    "spark"
   ]
  },
  {
   "cell_type": "code",
   "execution_count": null,
   "id": "1d3698d5",
   "metadata": {},
   "outputs": [
    {
     "name": "stderr",
     "output_type": "stream",
     "text": [
      "                                                                                \r"
     ]
    }
   ],
   "source": [
    "orders_df = spark.read.csv('data/orders.csv',inferSchema=True,header=True)"
   ]
  },
  {
   "cell_type": "code",
   "execution_count": 15,
   "id": "9941948a",
   "metadata": {},
   "outputs": [
    {
     "name": "stdout",
     "output_type": "stream",
     "text": [
      "root\n",
      " |-- order_id: integer (nullable = true)\n",
      " |-- product_id: integer (nullable = true)\n",
      " |-- customer_id: integer (nullable = true)\n",
      " |-- quantity: integer (nullable = true)\n",
      " |-- order_date: string (nullable = true)\n",
      " |-- total_amount: integer (nullable = true)\n",
      "\n",
      "+--------+----------+-----------+--------+----------+------------+\n",
      "|order_id|product_id|customer_id|quantity|order_date|total_amount|\n",
      "+--------+----------+-----------+--------+----------+------------+\n",
      "|       1|        80|         10|       4| 2023-3-20|        1003|\n",
      "|       2|        69|         30|       3|2023-12-11|         780|\n",
      "|       3|        61|         20|       4| 2023-4-26|        1218|\n",
      "|       4|        62|         44|       3| 2023-8-26|        2022|\n",
      "|       5|        78|         46|       4|  2023-8-5|        1291|\n",
      "+--------+----------+-----------+--------+----------+------------+\n",
      "only showing top 5 rows\n",
      "\n"
     ]
    }
   ],
   "source": [
    "orders_df.printSchema()\n",
    "orders_df.show(5)"
   ]
  },
  {
   "cell_type": "code",
   "execution_count": 16,
   "id": "149e0211",
   "metadata": {},
   "outputs": [],
   "source": [
    "products_df = spark.read.csv('data/products.csv',inferSchema=True,header=True)"
   ]
  },
  {
   "cell_type": "code",
   "execution_count": 17,
   "id": "6298b4cd",
   "metadata": {},
   "outputs": [
    {
     "name": "stdout",
     "output_type": "stream",
     "text": [
      "root\n",
      " |-- product_id: integer (nullable = true)\n",
      " |-- product_name: string (nullable = true)\n",
      " |-- category: string (nullable = true)\n",
      " |-- brand: string (nullable = true)\n",
      " |-- price: integer (nullable = true)\n",
      " |-- stock: integer (nullable = true)\n",
      "\n",
      "+----------+------------+-----------+-------+-----+-----+\n",
      "|product_id|product_name|   category|  brand|price|stock|\n",
      "+----------+------------+-----------+-------+-----+-----+\n",
      "|         1|   Product_1|Electronics|Brand_4|   26|  505|\n",
      "|         2|   Product_2|    Apparel|Brand_4|  489|   15|\n",
      "|         3|   Product_3|    Apparel|Brand_4|  102|  370|\n",
      "|         4|   Product_4|  Groceries|Brand_1|   47|  433|\n",
      "|         5|   Product_5|  Groceries|Brand_3|  244|  902|\n",
      "+----------+------------+-----------+-------+-----+-----+\n",
      "only showing top 5 rows\n",
      "\n"
     ]
    }
   ],
   "source": [
    "products_df.printSchema()\n",
    "products_df.show(5)"
   ]
  },
  {
   "cell_type": "code",
   "execution_count": 19,
   "id": "a3910246",
   "metadata": {},
   "outputs": [
    {
     "name": "stderr",
     "output_type": "stream",
     "text": [
      "                                                                                \r"
     ]
    }
   ],
   "source": [
    "(\n",
    "    orders_df.write.mode('overwrite').saveAsTable('orders_bucket')\n",
    ")"
   ]
  },
  {
   "cell_type": "code",
   "execution_count": 20,
   "id": "88880f69",
   "metadata": {},
   "outputs": [],
   "source": [
    "(\n",
    "    products_df.write.mode('overwrite').saveAsTable('products_bucket')\n",
    ")"
   ]
  },
  {
   "cell_type": "code",
   "execution_count": 23,
   "id": "e56ea33c",
   "metadata": {},
   "outputs": [
    {
     "name": "stdout",
     "output_type": "stream",
     "text": [
      "== Physical Plan ==\n",
      "*(1) ColumnarToRow\n",
      "+- FileScan parquet default.orders_bucket[order_id#142,product_id#143,customer_id#144,quantity#145,order_date#146,total_amount#147] Batched: true, DataFilters: [], Format: Parquet, Location: InMemoryFileIndex[file:/home/hari/python-notebooks/spark-warehouse/orders_bucket], PartitionFilters: [], PushedFilters: [], ReadSchema: struct<order_id:int,product_id:int,customer_id:int,quantity:int,order_date:string,total_amount:int>\n",
      "\n",
      "\n"
     ]
    }
   ],
   "source": [
    "spark.sql('select * from orders_bucket').explain()"
   ]
  },
  {
   "cell_type": "code",
   "execution_count": null,
   "id": "7030ea43",
   "metadata": {},
   "outputs": [],
   "source": []
  },
  {
   "cell_type": "code",
   "execution_count": null,
   "id": "44dd8659",
   "metadata": {},
   "outputs": [],
   "source": []
  }
 ],
 "metadata": {
  "kernelspec": {
   "display_name": "Python 3",
   "language": "python",
   "name": "python3"
  },
  "language_info": {
   "codemirror_mode": {
    "name": "ipython",
    "version": 3
   },
   "file_extension": ".py",
   "mimetype": "text/x-python",
   "name": "python",
   "nbconvert_exporter": "python",
   "pygments_lexer": "ipython3",
   "version": "3.10.12"
  }
 },
 "nbformat": 4,
 "nbformat_minor": 5
}
