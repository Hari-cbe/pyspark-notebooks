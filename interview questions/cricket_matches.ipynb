{
 "cells": [
  {
   "cell_type": "code",
   "execution_count": 8,
   "id": "f5b9eda8",
   "metadata": {},
   "outputs": [],
   "source": [
    "from pyspark.sql import SparkSession\n",
    "from pyspark.sql.functions import *\n",
    "import pyspark.sql.functions as F "
   ]
  },
  {
   "cell_type": "code",
   "execution_count": 3,
   "metadata": {},
   "outputs": [],
   "source": [
    "spark = SparkSession.builder.getOrCreate()\n",
    "\n",
    "#Create DataFrame with match details\n",
    "data = [\n",
    "    (\"India\", \"Australia\", \"India\"),\n",
    "    (\"England\", \"Pakistan\", \"England\"),\n",
    "    (\"South Africa\", \"New Zealand\", \"New Zealand\"),\n",
    "    (\"West Indies\", \"Sri Lanka\", \"Sri Lanka\"),\n",
    "    (\"India\", \"Pakistan\", \"India\"),\n",
    "    (\"Australia\", \"England\", \"Australia\"),\n",
    "    (\"New Zealand\", \"Sri Lanka\", \"New Zealand\"),\n",
    "    (\"South Africa\", \"West Indies\", \"South Africa\"),\n",
    "    (\"India\", \"England\", \"India\"),\n",
    "    (\"Pakistan\", \"Australia\", \"Pakistan\"),\n",
    "]\n",
    "\n",
    "columns = [\"Team_1\", \"Team_2\", \"Winner\"]\n",
    "\n",
    "df = spark.createDataFrame(data, columns)\n"
   ]
  },
  {
   "cell_type": "code",
   "execution_count": 4,
   "metadata": {},
   "outputs": [
    {
     "name": "stderr",
     "output_type": "stream",
     "text": [
      "                                                                                \r"
     ]
    },
    {
     "name": "stdout",
     "output_type": "stream",
     "text": [
      "+------------+-----------+------------+\n",
      "|      Team_1|     Team_2|      Winner|\n",
      "+------------+-----------+------------+\n",
      "|       India|  Australia|       India|\n",
      "|     England|   Pakistan|     England|\n",
      "|South Africa|New Zealand| New Zealand|\n",
      "| West Indies|  Sri Lanka|   Sri Lanka|\n",
      "|       India|   Pakistan|       India|\n",
      "|   Australia|    England|   Australia|\n",
      "| New Zealand|  Sri Lanka| New Zealand|\n",
      "|South Africa|West Indies|South Africa|\n",
      "|       India|    England|       India|\n",
      "|    Pakistan|  Australia|    Pakistan|\n",
      "+------------+-----------+------------+\n",
      "\n"
     ]
    }
   ],
   "source": [
    "df.show()"
   ]
  },
  {
   "cell_type": "code",
   "execution_count": 30,
   "metadata": {},
   "outputs": [],
   "source": [
    "df_unioned = df.select(col('Team_1').alias('team'),'Winner').union(df.select(col('Team_2').alias('team'),'Winner'))\\\n",
    "                .withColumn('winner_flag',when(col('team') == col('Winner'),1).otherwise(0))"
   ]
  },
  {
   "cell_type": "code",
   "execution_count": 32,
   "id": "29eba189",
   "metadata": {},
   "outputs": [
    {
     "name": "stdout",
     "output_type": "stream",
     "text": [
      "+------------+-----------+-----------+\n",
      "|        team|     Winner|winner_flag|\n",
      "+------------+-----------+-----------+\n",
      "|       India|      India|          1|\n",
      "|     England|    England|          1|\n",
      "|South Africa|New Zealand|          0|\n",
      "| West Indies|  Sri Lanka|          0|\n",
      "|       India|      India|          1|\n",
      "+------------+-----------+-----------+\n",
      "only showing top 5 rows\n",
      "\n"
     ]
    },
    {
     "name": "stderr",
     "output_type": "stream",
     "text": [
      "                                                                                \r"
     ]
    },
    {
     "name": "stdout",
     "output_type": "stream",
     "text": [
      "+------------+-------------+----------------+\n",
      "|        team|total_matches|sum(winner_flag)|\n",
      "+------------+-------------+----------------+\n",
      "|   Sri Lanka|            2|               1|\n",
      "|       India|            3|               3|\n",
      "| West Indies|            2|               0|\n",
      "| New Zealand|            2|               2|\n",
      "|     England|            3|               1|\n",
      "|   Australia|            3|               1|\n",
      "|South Africa|            2|               1|\n",
      "|    Pakistan|            3|               1|\n",
      "+------------+-------------+----------------+\n",
      "\n"
     ]
    }
   ],
   "source": [
    "df_unioned.show(5)\n",
    "\n",
    "df_unioned.groupBy('team').agg(count('team').alias('total_matches'),sum('winner_flag')).show()"
   ]
  },
  {
   "cell_type": "code",
   "execution_count": 34,
   "id": "947c7b55",
   "metadata": {},
   "outputs": [
    {
     "name": "stdout",
     "output_type": "stream",
     "text": [
      "== Physical Plan ==\n",
      "*(4) HashAggregate(keys=[team#198], functions=[count(team#198), sum(cast(winner_flag#208 as bigint))])\n",
      "+- Exchange hashpartitioning(team#198, 200), true, [id=#590]\n",
      "   +- *(3) HashAggregate(keys=[team#198], functions=[partial_count(team#198), partial_sum(cast(winner_flag#208 as bigint))])\n",
      "      +- Union\n",
      "         :- *(1) Project [Team_1#0 AS team#198, CASE WHEN (Team_1#0 = Winner#2) THEN 1 ELSE 0 END AS winner_flag#208]\n",
      "         :  +- *(1) Scan ExistingRDD[Team_1#0,Team_2#1,Winner#2]\n",
      "         +- *(2) Project [Team_2#1 AS team#204, CASE WHEN (Team_2#1 = Winner#2) THEN 1 ELSE 0 END AS winner_flag#308]\n",
      "            +- *(2) Scan ExistingRDD[Team_1#0,Team_2#1,Winner#2]\n",
      "\n",
      "\n"
     ]
    }
   ],
   "source": [
    "df_unioned.groupBy('team').agg(count('team').alias('total_matches'),sum('winner_flag')).explain()"
   ]
  },
  {
   "cell_type": "code",
   "execution_count": null,
   "id": "cea42d19",
   "metadata": {},
   "outputs": [],
   "source": []
  }
 ],
 "metadata": {
  "kernelspec": {
   "display_name": "Python 3",
   "language": "python",
   "name": "python3"
  },
  "language_info": {
   "codemirror_mode": {
    "name": "ipython",
    "version": 3
   },
   "file_extension": ".py",
   "mimetype": "text/x-python",
   "name": "python",
   "nbconvert_exporter": "python",
   "pygments_lexer": "ipython3",
   "version": "3.10.12"
  }
 },
 "nbformat": 4,
 "nbformat_minor": 5
}
