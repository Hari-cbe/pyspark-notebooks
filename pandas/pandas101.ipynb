{
 "cells": [
  {
   "cell_type": "code",
   "execution_count": 1,
   "id": "ed5baba9",
   "metadata": {},
   "outputs": [
    {
     "name": "stdout",
     "output_type": "stream",
     "text": [
      "2.3.0\n"
     ]
    }
   ],
   "source": [
    "import pandas as pd\n",
    "print(pd.__version__)"
   ]
  },
  {
   "cell_type": "code",
   "execution_count": null,
   "metadata": {},
   "outputs": [],
   "source": [
    "# pd.set_option() -> used to set the confs\n",
    "# pd.set_option('display.max_columns',n)"
   ]
  },
  {
   "cell_type": "code",
   "execution_count": null,
   "metadata": {},
   "outputs": [],
   "source": [
    "'''\n",
    "COMMANDS\n",
    "\n",
    ".read_*(), to_*()\n",
    ".head(), .tail()\n",
    ".columns, index()\n",
    ".info()\n",
    ".describe() -> can be used to get stats of non-numerice value also (eg, count, non-null, max)\n",
    ".shape\n",
    "df[] -> subseting the columns\n",
    "    df[['','','']], df[df.columns[:5]], df[[x for x in df.columns]]\n",
    "\n",
    ".select_dtypes('') -> selects only the particular types\n",
    "\n",
    ".loc[row, column], iloc[row, column]  \n",
    "~ -> to get the opposite\n",
    ".query() -> to write sql queries, to access varible use @\n",
    "\n",
    "Summaries \n",
    "    .min(), max(), mean(), count(), quantile() ....\n",
    "    we can do summaries for single column or multiple columns\n",
    "\n",
    ".unique() \n",
    "\n",
    "\n",
    "\n",
    "\n",
    "\n",
    "\n",
    "'''"
   ]
  },
  {
   "cell_type": "code",
   "execution_count": null,
   "metadata": {},
   "outputs": [],
   "source": []
  },
  {
   "cell_type": "code",
   "execution_count": null,
   "metadata": {},
   "outputs": [],
   "source": []
  },
  {
   "cell_type": "code",
   "execution_count": null,
   "metadata": {},
   "outputs": [],
   "source": []
  },
  {
   "cell_type": "code",
   "execution_count": null,
   "metadata": {},
   "outputs": [],
   "source": []
  },
  {
   "cell_type": "code",
   "execution_count": null,
   "id": "5c173914",
   "metadata": {},
   "outputs": [],
   "source": []
  },
  {
   "cell_type": "code",
   "execution_count": null,
   "metadata": {},
   "outputs": [],
   "source": []
  },
  {
   "cell_type": "code",
   "execution_count": null,
   "metadata": {},
   "outputs": [],
   "source": []
  },
  {
   "cell_type": "code",
   "execution_count": null,
   "metadata": {},
   "outputs": [],
   "source": []
  }
 ],
 "metadata": {
  "kernelspec": {
   "display_name": "Python 3",
   "language": "python",
   "name": "python3"
  },
  "language_info": {
   "codemirror_mode": {
    "name": "ipython",
    "version": 3
   },
   "file_extension": ".py",
   "mimetype": "text/x-python",
   "name": "python",
   "nbconvert_exporter": "python",
   "pygments_lexer": "ipython3",
   "version": "3.10.12"
  }
 },
 "nbformat": 4,
 "nbformat_minor": 5
}
