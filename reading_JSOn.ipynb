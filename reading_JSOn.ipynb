{
 "cells": [
  {
   "cell_type": "code",
   "execution_count": 1,
   "id": "ead837fa",
   "metadata": {},
   "outputs": [],
   "source": [
    "from pyspark.sql import SparkSession\n",
    "from  pyspark.sql.types import *\n",
    "import pyspark.sql.functions as F\n",
    "from pyspark.sql.window import Window"
   ]
  },
  {
   "cell_type": "code",
   "execution_count": null,
   "id": "28b4165d",
   "metadata": {},
   "outputs": [
    {
     "name": "stderr",
     "output_type": "stream",
     "text": [
      "25/06/22 11:15:38 WARN Utils: Your hostname, hari-HP-Laptop-15s-du2xxx resolves to a loopback address: 127.0.1.1; using 172.17.0.1 instead (on interface docker0)\n",
      "25/06/22 11:15:38 WARN Utils: Set SPARK_LOCAL_IP if you need to bind to another address\n",
      "25/06/22 11:15:39 WARN NativeCodeLoader: Unable to load native-hadoop library for your platform... using builtin-java classes where applicable\n",
      "Using Spark's default log4j profile: org/apache/spark/log4j-defaults.properties\n",
      "Setting default log level to \"WARN\".\n",
      "To adjust logging level use sc.setLogLevel(newLevel). For SparkR, use setLogLevel(newLevel).\n"
     ]
    }
   ],
   "source": [
    "spark =(\n",
    "    SparkSession\n",
    "        .builder\n",
    "        .master('local[*]')\n",
    "        .appName('bucketing')\n",
    "        .getOrCreate()\n",
    ")\n",
    "spark.sparkContext.setLogLevel(\"ERROR\")\n",
    "spark.conf.set('spark.sql.autoBroadcastJoinThreshold',-1)"
   ]
  },
  {
   "cell_type": "code",
   "execution_count": 67,
   "id": "3085f527",
   "metadata": {},
   "outputs": [
    {
     "data": {
      "text/html": [
       "\n",
       "            <div>\n",
       "                <p><b>SparkSession - in-memory</b></p>\n",
       "                \n",
       "        <div>\n",
       "            <p><b>SparkContext</b></p>\n",
       "\n",
       "            <p><a href=\"http://172.17.0.1:4040\">Spark UI</a></p>\n",
       "\n",
       "            <dl>\n",
       "              <dt>Version</dt>\n",
       "                <dd><code>v3.0.0</code></dd>\n",
       "              <dt>Master</dt>\n",
       "                <dd><code>local[*]</code></dd>\n",
       "              <dt>AppName</dt>\n",
       "                <dd><code>bucketing</code></dd>\n",
       "            </dl>\n",
       "        </div>\n",
       "        \n",
       "            </div>\n",
       "        "
      ],
      "text/plain": [
       "<pyspark.sql.session.SparkSession at 0x70afdf225ba0>"
      ]
     },
     "execution_count": 67,
     "metadata": {},
     "output_type": "execute_result"
    }
   ],
   "source": [
    "spark"
   ]
  },
  {
   "cell_type": "code",
   "execution_count": 98,
   "id": "40511b44",
   "metadata": {},
   "outputs": [],
   "source": [
    "titanic_json =(\n",
    "    spark.read.json('./data/titanic-parquet.json')\n",
    ")"
   ]
  },
  {
   "cell_type": "code",
   "execution_count": 39,
   "id": "03dd5628",
   "metadata": {},
   "outputs": [
    {
     "name": "stdout",
     "output_type": "stream",
     "text": [
      "root\n",
      " |-- Age: double (nullable = true)\n",
      " |-- Cabin: string (nullable = true)\n",
      " |-- Embarked: string (nullable = true)\n",
      " |-- Fare: double (nullable = true)\n",
      " |-- Name: string (nullable = true)\n",
      " |-- Parch: string (nullable = true)\n",
      " |-- PassengerId: string (nullable = true)\n",
      " |-- Pclass: string (nullable = true)\n",
      " |-- Sex: string (nullable = true)\n",
      " |-- SibSp: string (nullable = true)\n",
      " |-- Survived: string (nullable = true)\n",
      " |-- Ticket: string (nullable = true)\n",
      "\n",
      "+----+-----+--------+-------+-------------------------------------------------------+-----+-----------+------+------+-----+--------+----------------+\n",
      "|Age |Cabin|Embarked|Fare   |Name                                                   |Parch|PassengerId|Pclass|Sex   |SibSp|Survived|Ticket          |\n",
      "+----+-----+--------+-------+-------------------------------------------------------+-----+-----------+------+------+-----+--------+----------------+\n",
      "|22.0|null |S       |7.25   |Braund, Mr. Owen Harris                                |0    |1          |3     |male  |1    |0       |A/5 21171       |\n",
      "|38.0|C85  |C       |71.2833|Cumings, Mrs. John Bradley (Florence Briggs Thayer)    |0    |2          |1     |female|1    |1       |PC 17599        |\n",
      "|26.0|null |S       |7.925  |Heikkinen, Miss. Laina                                 |0    |3          |3     |female|0    |1       |STON/O2. 3101282|\n",
      "|35.0|C123 |S       |53.1   |Futrelle, Mrs. Jacques Heath (Lily May Peel)           |0    |4          |1     |female|1    |1       |113803          |\n",
      "|35.0|null |S       |8.05   |Allen, Mr. William Henry                               |0    |5          |3     |male  |0    |0       |373450          |\n",
      "|null|null |Q       |8.4583 |Moran, Mr. James                                       |0    |6          |3     |male  |0    |0       |330877          |\n",
      "|54.0|E46  |S       |51.8625|McCarthy, Mr. Timothy J                                |0    |7          |1     |male  |0    |0       |17463           |\n",
      "|2.0 |null |S       |21.075 |Palsson, Master. Gosta Leonard                         |1    |8          |3     |male  |3    |0       |349909          |\n",
      "|27.0|null |S       |11.1333|Johnson, Mrs. Oscar W (Elisabeth Vilhelmina Berg)      |2    |9          |3     |female|0    |1       |347742          |\n",
      "|14.0|null |C       |30.0708|Nasser, Mrs. Nicholas (Adele Achem)                    |0    |10         |2     |female|1    |1       |237736          |\n",
      "|4.0 |G6   |S       |16.7   |Sandstrom, Miss. Marguerite Rut                        |1    |11         |3     |female|1    |1       |PP 9549         |\n",
      "|58.0|C103 |S       |26.55  |Bonnell, Miss. Elizabeth                               |0    |12         |1     |female|0    |1       |113783          |\n",
      "|20.0|null |S       |8.05   |Saundercock, Mr. William Henry                         |0    |13         |3     |male  |0    |0       |A/5. 2151       |\n",
      "|39.0|null |S       |31.275 |Andersson, Mr. Anders Johan                            |5    |14         |3     |male  |1    |0       |347082          |\n",
      "|14.0|null |S       |7.8542 |Vestrom, Miss. Hulda Amanda Adolfina                   |0    |15         |3     |female|0    |0       |350406          |\n",
      "|55.0|null |S       |16.0   |Hewlett, Mrs. (Mary D Kingcome)                        |0    |16         |2     |female|0    |1       |248706          |\n",
      "|2.0 |null |Q       |29.125 |Rice, Master. Eugene                                   |1    |17         |3     |male  |4    |0       |382652          |\n",
      "|null|null |S       |13.0   |Williams, Mr. Charles Eugene                           |0    |18         |2     |male  |0    |1       |244373          |\n",
      "|31.0|null |S       |18.0   |Vander Planke, Mrs. Julius (Emelia Maria Vandemoortele)|0    |19         |3     |female|1    |0       |345763          |\n",
      "|null|null |C       |7.225  |Masselmani, Mrs. Fatima                                |0    |20         |3     |female|0    |1       |2649            |\n",
      "+----+-----+--------+-------+-------------------------------------------------------+-----+-----------+------+------+-----+--------+----------------+\n",
      "only showing top 20 rows\n",
      "\n"
     ]
    }
   ],
   "source": [
    "titanic_json.printSchema()\n",
    "titanic_json.show(20,False)"
   ]
  },
  {
   "cell_type": "code",
   "execution_count": 41,
   "id": "3137fd35",
   "metadata": {},
   "outputs": [
    {
     "name": "stdout",
     "output_type": "stream",
     "text": [
      "+----+\n",
      "| Age|\n",
      "+----+\n",
      "| 8.0|\n",
      "|70.0|\n",
      "| 7.0|\n",
      "|20.5|\n",
      "|49.0|\n",
      "|29.0|\n",
      "|40.5|\n",
      "|64.0|\n",
      "|47.0|\n",
      "|42.0|\n",
      "|24.5|\n",
      "|44.0|\n",
      "|35.0|\n",
      "|null|\n",
      "|62.0|\n",
      "|18.0|\n",
      "|80.0|\n",
      "|34.5|\n",
      "|39.0|\n",
      "| 1.0|\n",
      "+----+\n",
      "only showing top 20 rows\n",
      "\n"
     ]
    },
    {
     "name": "stderr",
     "output_type": "stream",
     "text": [
      "                                                                                \r"
     ]
    }
   ],
   "source": [
    "titanic_json.select('Age').distinct().show()"
   ]
  },
  {
   "cell_type": "code",
   "execution_count": 75,
   "id": "d0f8c002",
   "metadata": {},
   "outputs": [],
   "source": [
    "spark.conf.set('spark.sql.autoBroadcastJoinThreshold',-1)"
   ]
  },
  {
   "cell_type": "code",
   "execution_count": 80,
   "id": "1e86d25a",
   "metadata": {},
   "outputs": [
    {
     "data": {
      "text/plain": [
       "1"
      ]
     },
     "execution_count": 80,
     "metadata": {},
     "output_type": "execute_result"
    }
   ],
   "source": [
    "titanic_json.rdd.getNumPartitions()"
   ]
  },
  {
   "cell_type": "code",
   "execution_count": 79,
   "id": "fc25303c",
   "metadata": {},
   "outputs": [
    {
     "name": "stdout",
     "output_type": "stream",
     "text": [
      "== Parsed Logical Plan ==\n",
      "'Project [round(avg('Age), 2) AS mean_age#806]\n",
      "+- Relation[Age#7,Cabin#8,Embarked#9,Fare#10,Name#11,Parch#12,PassengerId#13,Pclass#14,Sex#15,SibSp#16,Survived#17,Ticket#18] json\n",
      "\n",
      "== Analyzed Logical Plan ==\n",
      "mean_age: double\n",
      "Aggregate [round(avg(Age#7), 2) AS mean_age#806]\n",
      "+- Relation[Age#7,Cabin#8,Embarked#9,Fare#10,Name#11,Parch#12,PassengerId#13,Pclass#14,Sex#15,SibSp#16,Survived#17,Ticket#18] json\n",
      "\n",
      "== Optimized Logical Plan ==\n",
      "Aggregate [round(avg(Age#7), 2) AS mean_age#806]\n",
      "+- Project [Age#7]\n",
      "   +- Relation[Age#7,Cabin#8,Embarked#9,Fare#10,Name#11,Parch#12,PassengerId#13,Pclass#14,Sex#15,SibSp#16,Survived#17,Ticket#18] json\n",
      "\n",
      "== Physical Plan ==\n",
      "*(2) HashAggregate(keys=[], functions=[avg(Age#7)], output=[mean_age#806])\n",
      "+- Exchange SinglePartition, true, [id=#421]\n",
      "   +- *(1) HashAggregate(keys=[], functions=[partial_avg(Age#7)], output=[sum#810, count#811L])\n",
      "      +- FileScan json [Age#7] Batched: false, DataFilters: [], Format: JSON, Location: InMemoryFileIndex[file:/home/hari/python-notebooks/data/titanic-parquet.json], PartitionFilters: [], PushedFilters: [], ReadSchema: struct<Age:double>\n",
      "\n"
     ]
    }
   ],
   "source": [
    "mean_age = titanic_json.select(F.round(F.mean(F.col('Age')),2).alias('mean_age'))\n",
    "\n",
    "mean_age.explain(True)\n"
   ]
  },
  {
   "cell_type": "code",
   "execution_count": 106,
   "id": "9368a4b7",
   "metadata": {},
   "outputs": [
    {
     "name": "stdout",
     "output_type": "stream",
     "text": [
      "b'(1) MapPartitionsRDD[359] at javaToPython at NativeMethodAccessorImpl.java:0 []\\n |  MapPartitionsRDD[358] at javaToPython at NativeMethodAccessorImpl.java:0 []\\n |  SQLExecutionRDD[357] at javaToPython at NativeMethodAccessorImpl.java:0 []\\n |  MapPartitionsRDD[356] at javaToPython at NativeMethodAccessorImpl.java:0 []\\n |  MapPartitionsRDD[355] at javaToPython at NativeMethodAccessorImpl.java:0 []\\n |  UnsafeCartesianRDD[354] at javaToPython at NativeMethodAccessorImpl.java:0 []\\n |  MapPartitionsRDD[347] at javaToPython at NativeMethodAccessorImpl.java:0 []\\n |  FileScanRDD[346] at javaToPython at NativeMethodAccessorImpl.java:0 []\\n |  MapPartitionsRDD[353] at javaToPython at NativeMethodAccessorImpl.java:0 []\\n |  ShuffledRowRDD[352] at javaToPython at NativeMethodAccessorImpl.java:0 []\\n +-(1) MapPartitionsRDD[351] at javaToPython at NativeMethodAccessorImpl.java:0 []\\n    |  MapPartitionsRDD[350] at javaToPython at NativeMethodAccessorImpl.java:0 []\\n    |  MapPartitionsRDD[349] at javaToPython at NativeMethodAccessorImpl.java:0 []\\n    |  FileScanRDD[348] at javaToPython at NativeMethodAccessorImpl.java:0 []'\n"
     ]
    }
   ],
   "source": [
    "print((   \n",
    "    titanic_json.crossJoin(mean_age)\n",
    "    .withColumn('Age',F.coalesce(F.col('Age'),F.col('mean_age')))\n",
    "    .drop(F.col('mean_age'))\n",
    ").rdd.toDebugString())"
   ]
  },
  {
   "cell_type": "code",
   "execution_count": null,
   "id": "437bd4a0",
   "metadata": {},
   "outputs": [
    {
     "name": "stderr",
     "output_type": "stream",
     "text": [
      "[Stage 90:===================================================>   (94 + 6) / 100]\r"
     ]
    },
    {
     "name": "stdout",
     "output_type": "stream",
     "text": [
      "+----+----+----+----+----+----+----+----+----+----+----+----+----+----+----+----+----+----+----+----+----+----+----+----+----+----+----+----+----+----+----+----+----+----+----+----+-----------+---------------+-------+----+----+----+----+----+----+----+-------+----+----+-------+----+----+----+----+----+----+----+----+----+----+----+----+----+----+-------+-----------+----+----+----+----+----+----+----+----+----+-------+----+----+----+----+----+----+----+----+----+----+----+----+----+----+----+----+----+-------+----+----+----+----+----+----+----+----+----+----+----+----+----+----+----+----+----+----+----+----+----+----+----+----+----+----+----+----+----+----+----+----+----+----+----+----+----+----+----+----+----+----+----+----+----+----+-----+-----+-----+----+----+----+----+----+----+\n",
      "| Age|null| A10| A14| A16| A19| A20| A23| A24| A26| A31| A32| A34| A36|  A5|  A6|  A7|B101|B102| B18| B19| B20| B22| B28|  B3| B30| B35| B37| B38| B39|  B4| B41| B42| B49|  B5| B50|B51 B53 B55|B57 B59 B63 B66|B58 B60| B69| B71| B73| B77| B78| B79| B80|B82 B84| B86| B94|B96 B98|C101|C103|C104|C106|C110|C111|C118|C123|C124|C125|C126|C128|C148|  C2|C22 C26|C23 C25 C27| C30| C32| C45| C46| C47| C49| C50| C52| C54|C62 C64| C65| C68|  C7| C70| C78| C82| C83| C85| C86| C87| C90| C91| C92| C93| C95| C99|   D|D10 D12| D11| D15| D17| D19| D20| D21| D26| D28| D30| D33| D35| D36| D37| D45| D46| D47| D48| D49| D50| D56|  D6|  D7|  D9| E10|E101| E12|E121| E17| E24| E25| E31| E33| E34| E36| E38| E40| E44| E46| E49| E50| E58| E63| E67| E68| E77|  E8|F E69|F G63|F G73|  F2| F33| F38|  F4|  G6|   T|\n",
      "+----+----+----+----+----+----+----+----+----+----+----+----+----+----+----+----+----+----+----+----+----+----+----+----+----+----+----+----+----+----+----+----+----+----+----+----+-----------+---------------+-------+----+----+----+----+----+----+----+-------+----+----+-------+----+----+----+----+----+----+----+----+----+----+----+----+----+----+-------+-----------+----+----+----+----+----+----+----+----+----+-------+----+----+----+----+----+----+----+----+----+----+----+----+----+----+----+----+----+-------+----+----+----+----+----+----+----+----+----+----+----+----+----+----+----+----+----+----+----+----+----+----+----+----+----+----+----+----+----+----+----+----+----+----+----+----+----+----+----+----+----+----+----+----+----+----+-----+-----+-----+----+----+----+----+----+----+\n",
      "| 8.0|   4|null|null|null|null|null|null|null|null|null|null|null|null|null|null|null|null|null|null|null|null|null|null|null|null|null|null|null|null|null|null|null|null|null|null|       null|           null|   null|null|null|null|null|null|null|null|   null|null|null|   null|null|null|null|null|null|null|null|null|null|null|null|null|null|null|   null|       null|null|null|null|null|null|null|null|null|null|   null|null|null|null|null|null|null|null|null|null|null|null|null|null|null|null|null|null|   null|null|null|null|null|null|null|null|null|null|null|null|null|null|null|null|null|null|null|null|null|null|null|null|null|null|null|null|null|null|null|null|null|null|null|null|null|null|null|null|null|null|null|null|null|null|null| null| null| null|null|null|null|null|null|null|\n",
      "|70.0|   1|null|null|null|null|null|null|null|null|null|null|null|null|null|null|null|null|null|null|null|null|   1|null|null|null|null|null|null|null|null|null|null|null|null|null|       null|           null|   null|null|null|null|null|null|null|null|   null|null|null|   null|null|null|null|null|null|null|null|null|null|null|null|null|null|null|   null|       null|null|null|null|null|null|null|null|null|null|   null|null|null|null|null|null|null|null|null|null|null|null|null|null|null|null|null|null|   null|null|null|null|null|null|null|null|null|null|null|null|null|null|null|null|null|null|null|null|null|null|null|null|null|null|null|null|null|null|null|null|null|null|null|null|null|null|null|null|null|null|null|null|null|null|null| null| null| null|null|null|null|null|null|null|\n",
      "| 7.0|   3|null|null|null|null|null|null|null|null|null|null|null|null|null|null|null|null|null|null|null|null|null|null|null|null|null|null|null|null|null|null|null|null|null|null|       null|           null|   null|null|null|null|null|null|null|null|   null|null|null|   null|null|null|null|null|null|null|null|null|null|null|null|null|null|null|   null|       null|null|null|null|null|null|null|null|null|null|   null|null|null|null|null|null|null|null|null|null|null|null|null|null|null|null|null|null|   null|null|null|null|null|null|null|null|null|null|null|null|null|null|null|null|null|null|null|null|null|null|null|null|null|null|null|null|null|null|null|null|null|null|null|null|null|null|null|null|null|null|null|null|null|null|null| null| null| null|null|null|null|null|null|null|\n",
      "|20.5|   1|null|null|null|null|null|null|null|null|null|null|null|null|null|null|null|null|null|null|null|null|null|null|null|null|null|null|null|null|null|null|null|null|null|null|       null|           null|   null|null|null|null|null|null|null|null|   null|null|null|   null|null|null|null|null|null|null|null|null|null|null|null|null|null|null|   null|       null|null|null|null|null|null|null|null|null|null|   null|null|null|null|null|null|null|null|null|null|null|null|null|null|null|null|null|null|   null|null|null|null|null|null|null|null|null|null|null|null|null|null|null|null|null|null|null|null|null|null|null|null|null|null|null|null|null|null|null|null|null|null|null|null|null|null|null|null|null|null|null|null|null|null|null| null| null| null|null|null|null|null|null|null|\n",
      "|49.0|   1|null|null|null|null|   1|null|null|null|null|null|null|null|null|null|null|null|null|null|null|null|null|null|null|null|null|null|null|null|null|null|null|null|null|null|       null|           null|   null|null|null|null|null|null|null|null|   null|null|null|   null|null|null|null|null|null|null|null|null|null|null|null|null|null|null|   null|       null|null|null|null|null|null|null|null|null|null|   null|null|   1|null|null|null|null|null|null|null|null|null|null|   1|null|null|null|null|   null|null|null|   1|null|null|null|null|null|null|   1|null|null|null|null|null|null|null|null|null|null|null|null|null|null|null|null|null|null|null|null|null|null|null|null|null|null|null|null|null|null|null|null|null|null|null|null| null| null| null|null|null|null|null|null|null|\n",
      "|29.0|  15|null|null|null|null|null|null|null|null|null|null|null|null|null|null|null|null|null|null|null|null|null|null|null|null|null|null|null|null|null|null|null|null|   1|null|       null|           null|   null|null|null|null|null|null|null|null|   null|null|null|   null|null|null|null|null|null|null|null|null|null|null|null|null|null|   1|   null|       null|null|null|null|null|null|null|null|null|null|   null|null|null|null|null|null|null|null|null|null|null|null|null|null|null|null|null|null|   null|null|null|null|null|null|null|null|null|null|null|null|null|null|null|null|null|null|null|null|null|   1|null|null|null|null|null|null|null|null|null|null|null|null|null|null|null|null|null|null|null|null|null|null|null|null|null| null| null| null|null|   1|null|null|   1|null|\n",
      "|40.5|   2|null|null|null|null|null|null|null|null|null|null|null|null|null|null|null|null|null|null|null|null|null|null|null|null|null|null|null|null|null|null|null|null|null|null|       null|           null|   null|null|null|null|null|null|null|null|   null|null|null|   null|null|null|null|null|null|null|null|null|null|null|null|null|null|null|   null|       null|null|null|null|null|null|null|null|null|null|   null|null|null|null|null|null|null|null|null|null|null|null|null|null|null|null|null|null|   null|null|null|null|null|null|null|null|null|null|null|null|null|null|null|null|null|null|null|null|null|null|null|null|null|null|null|null|null|null|null|null|null|null|null|null|null|null|null|null|null|null|null|null|null|null|null| null| null| null|null|null|null|null|null|null|\n",
      "|64.0|   1|null|null|null|null|null|null|null|null|null|null|null|null|null|null|null|null|null|null|null|null|null|null|null|null|null|null|null|null|null|null|null|null|null|null|       null|           null|   null|null|null|null|null|null|null|null|   null|null|null|   null|null|null|null|null|null|null|null|null|null|null|null|null|null|null|   null|          1|null|null|null|null|null|null|null|null|null|   null|null|null|null|null|null|null|null|null|null|null|null|null|null|null|null|null|null|   null|null|null|null|null|null|null|null|null|null|null|null|null|null|null|null|null|null|null|null|null|null|null|null|null|null|null|null|null|null|null|null|null|null|null|null|null|null|null|null|null|null|null|null|null|null|null| null| null| null|null|null|null|null|null|null|\n",
      "|47.0|   4|null|null|null|null|null|null|null|null|null|null|null|null|null|null|null|null|null|null|null|null|null|null|null|null|null|null|null|null|null|null|null|null|null|null|       null|           null|   null|null|null|null|null|null|null|null|   null|null|null|   null|null|null|null|null|   1|null|null|null|null|null|null|null|null|null|   null|       null|null|null|null|null|null|null|null|null|null|   null|null|null|null|null|null|null|null|null|null|null|null|null|null|null|null|null|null|   null|null|null|null|null|null|null|null|null|null|null|   1|null|null|null|   1|null|null|null|null|null|null|null|null|null|null|null|null|null|null|null|null|null|null|null|null|null|null|null|null|null|   1|   1|null|null|null|null| null| null| null|null|null|null|null|null|null|\n",
      "|42.0|  10|null|null|null|null|null|null|null|null|null|null|null|null|null|null|null|null|null|null|null|null|null|null|null|null|null|null|null|null|null|null|null|null|null|null|       null|           null|   null|null|null|null|null|null|null|null|   null|null|null|   null|null|null|null|null|null|null|null|null|null|null|null|null|null|null|   null|       null|null|null|null|null|null|null|null|null|null|   null|null|null|null|null|null|null|null|null|null|null|null|null|null|null|null|null|null|   null|null|null|null|   1|null|null|null|null|null|null|null|null|null|null|null|null|null|null|null|null|null|null|null|null|null|null|null|null|   1|null|null|null|null|null|null|null|null|null|null|null|null|null|null|null|null|null| null|    1| null|null|null|null|null|null|null|\n",
      "|24.5|   1|null|null|null|null|null|null|null|null|null|null|null|null|null|null|null|null|null|null|null|null|null|null|null|null|null|null|null|null|null|null|null|null|null|null|       null|           null|   null|null|null|null|null|null|null|null|   null|null|null|   null|null|null|null|null|null|null|null|null|null|null|null|null|null|null|   null|       null|null|null|null|null|null|null|null|null|null|   null|null|null|null|null|null|null|null|null|null|null|null|null|null|null|null|null|null|   null|null|null|null|null|null|null|null|null|null|null|null|null|null|null|null|null|null|null|null|null|null|null|null|null|null|null|null|null|null|null|null|null|null|null|null|null|null|null|null|null|null|null|null|null|null|null| null| null| null|null|null|null|null|null|null|\n",
      "|44.0|   6|null|null|null|null|null|null|null|null|null|null|null|null|null|null|null|null|null|   1|null|null|null|null|null|null|null|null|null|null|   1|null|null|null|null|null|       null|           null|   null|null|null|null|null|null|null|null|   null|null|null|   null|null|null|null|null|null|null|null|null|null|null|null|null|null|null|   null|       null|null|null|null|null|null|null|null|null|null|   null|null|null|null|null|   1|null|null|null|null|null|null|null|null|null|null|null|null|   null|null|null|null|null|null|null|null|null|null|null|null|null|null|null|null|null|null|null|null|null|null|null|null|null|null|null|null|null|null|null|null|null|null|null|null|null|null|null|null|null|null|null|null|null|null|null| null| null| null|null|null|null|null|null|null|\n",
      "|35.0|  12|null|null|null|null|null|null|null|null|null|null|null|null|null|null|null|   1|null|null|null|null|null|null|null|null|null|null|null|null|null|null|null|null|null|null|       null|           null|   null|null|null|null|null|null|null|null|   null|null|null|   null|null|null|null|null|null|null|null|   1|null|null|null|null|null|null|   null|       null|null|null|null|null|null|null|null|null|null|   null|null|null|null|null|null|null|   1|null|null|null|null|null|null|   1|null|   1|null|   null|null|null|null|null|null|null|null|null|null|null|null|null|null|null|null|null|null|null|null|null|null|null|null|null|null|null|null|null|   1|null|null|null|null|null|null|null|null|null|null|null|null|null|null|null|null|null| null| null| null|null|null|null|null|null|null|\n",
      "|62.0|   2|null|null|null|null|null|null|null|null|null|null|null|null|null|null|null|null|null|null|null|null|null|   1|null|null|null|null|null|null|null|null|null|null|null|null|       null|           null|   null|null|null|null|null|null|null|null|   null|null|null|   null|null|null|null|null|null|null|null|null|null|null|null|null|null|null|   null|       null|null|null|null|null|null|null|null|null|null|   null|null|null|null|null|null|null|null|null|null|   1|null|null|null|null|null|null|null|   null|null|null|null|null|null|null|null|null|null|null|null|null|null|null|null|null|null|null|null|null|null|null|null|null|null|null|null|null|null|null|null|null|null|null|null|null|null|null|null|null|null|null|null|null|null|null| null| null| null|null|null|null|null|null|null|\n",
      "|18.0|  22|null|null|null|null|null|null|null|null|null|null|null|null|null|null|null|null|null|null|null|null|null|null|null|null|null|null|null|null|null|null|null|null|null|null|       null|              1|   null|null|null|null|null|null|null|null|   null|null|null|   null|null|null|null|null|null|null|null|null|null|null|null|null|null|null|   null|       null|null|null|null|null|null|null|null|null|null|      1|   1|null|null|null|null|null|null|null|null|null|null|null|null|null|null|null|null|   null|null|null|null|null|null|null|null|null|null|null|null|null|null|null|null|null|null|null|null|null|null|null|null|null|null|null|null|null|null|null|null|null|null|null|null|null|null|null|null|null|null|null|null|   1|null|null| null| null| null|null|null|null|null|null|null|\n",
      "|80.0|null|null|null|null|null|null|   1|null|null|null|null|null|null|null|null|null|null|null|null|null|null|null|null|null|null|null|null|null|null|null|null|null|null|null|null|       null|           null|   null|null|null|null|null|null|null|null|   null|null|null|   null|null|null|null|null|null|null|null|null|null|null|null|null|null|null|   null|       null|null|null|null|null|null|null|null|null|null|   null|null|null|null|null|null|null|null|null|null|null|null|null|null|null|null|null|null|   null|null|null|null|null|null|null|null|null|null|null|null|null|null|null|null|null|null|null|null|null|null|null|null|null|null|null|null|null|null|null|null|null|null|null|null|null|null|null|null|null|null|null|null|null|null|null| null| null| null|null|null|null|null|null|null|\n",
      "|29.7| 158|null|   1|null|   1|null|null|null|null|null|   1|null|null|null|null|null|null|   1|null|null|null|null|null|null|null|null|null|null|null|null|null|null|null|null|null|       null|           null|   null|null|null|null|null|   1|null|null|   null|null|null|   null|null|null|null|   1|null|null|null|null|   1|null|   1|   1|null|null|   null|       null|null|null|null|null|   1|null|null|   1|null|   null|null|null|null|null|null|null|null|null|null|null|null|null|   1|null|   1|null|null|   null|null|null|null|null|null|   1|null|null|null|null|null|null|null|   1|null|null|null|null|null|null|null|null|null|null|   1|null|null|null|null|null|null|   1|null|null|null|null|null|null|null|null|null|null|null|null|null|null|    1| null| null|null|null|   1|null|null|null|\n",
      "|34.5|   1|null|null|null|null|null|null|null|null|null|null|null|null|null|null|null|null|null|null|null|null|null|null|null|null|null|null|null|null|null|null|null|null|null|null|       null|           null|   null|null|null|null|null|null|null|null|   null|null|null|   null|null|null|null|null|null|null|null|null|null|null|null|null|null|null|   null|       null|null|null|null|null|null|null|null|null|null|   null|null|null|null|null|null|null|null|null|null|null|null|null|null|null|null|null|null|   null|null|null|null|null|null|null|null|null|null|null|null|null|null|null|null|null|null|null|null|null|null|null|null|null|null|null|null|null|null|null|null|null|null|null|null|null|null|null|null|null|null|null|null|null|null|null| null| null| null|null|null|null|null|null|null|\n",
      "|39.0|   9|null|null|null|null|null|null|null|null|null|null|null|   1|null|null|null|null|null|null|null|null|null|null|null|null|null|null|null|null|null|null|null|null|null|null|       null|           null|   null|null|null|null|null|null|null|null|   null|null|null|   null|null|null|null|null|null|null|null|null|null|null|null|null|null|null|   null|       null|null|null|null|null|null|null|null|null|null|   null|null|   1|null|null|null|null|null|null|null|null|null|null|null|null|null|null|null|   null|null|null|null|null|null|null|null|null|null|null|null|null|null|null|null|null|null|null|null|null|null|null|null|null|null|null|null|null|null|null|null|null|null|null|null|null|   1|null|   1|null|null|null|   1|null|null|null| null| null| null|null|null|null|null|null|null|\n",
      "| 1.0|   6|null|null|null|null|null|null|null|null|null|null|null|null|null|null|null|null|null|null|null|null|null|null|null|null|null|null|null|null|null|null|null|null|null|null|       null|           null|   null|null|null|null|null|null|null|null|   null|null|null|   null|null|null|null|null|null|null|null|null|null|null|null|null|null|null|   null|       null|null|null|null|null|null|null|null|null|null|   null|null|null|null|null|null|null|null|null|null|null|null|null|null|null|null|null|null|   null|null|null|null|null|null|null|null|null|null|null|null|null|null|null|null|null|null|null|null|null|null|null|null|null|null|null|null|null|null|null|null|null|null|null|null|null|null|null|null|null|null|null|null|null|null|null| null| null| null|null|null|null|   1|null|null|\n",
      "+----+----+----+----+----+----+----+----+----+----+----+----+----+----+----+----+----+----+----+----+----+----+----+----+----+----+----+----+----+----+----+----+----+----+----+----+-----------+---------------+-------+----+----+----+----+----+----+----+-------+----+----+-------+----+----+----+----+----+----+----+----+----+----+----+----+----+----+-------+-----------+----+----+----+----+----+----+----+----+----+-------+----+----+----+----+----+----+----+----+----+----+----+----+----+----+----+----+----+-------+----+----+----+----+----+----+----+----+----+----+----+----+----+----+----+----+----+----+----+----+----+----+----+----+----+----+----+----+----+----+----+----+----+----+----+----+----+----+----+----+----+----+----+----+----+----+-----+-----+-----+----+----+----+----+----+----+\n",
      "only showing top 20 rows\n",
      "\n"
     ]
    },
    {
     "name": "stderr",
     "output_type": "stream",
     "text": [
      "                                                                                \r"
     ]
    }
   ],
   "source": []
  },
  {
   "cell_type": "code",
   "execution_count": null,
   "id": "68cb08be",
   "metadata": {},
   "outputs": [],
   "source": []
  },
  {
   "cell_type": "code",
   "execution_count": null,
   "id": "c63c2beb",
   "metadata": {},
   "outputs": [],
   "source": []
  }
 ],
 "metadata": {
  "kernelspec": {
   "display_name": "Python 3",
   "language": "python",
   "name": "python3"
  },
  "language_info": {
   "codemirror_mode": {
    "name": "ipython",
    "version": 3
   },
   "file_extension": ".py",
   "mimetype": "text/x-python",
   "name": "python",
   "nbconvert_exporter": "python",
   "pygments_lexer": "ipython3",
   "version": "3.10.12"
  }
 },
 "nbformat": 4,
 "nbformat_minor": 5
}
